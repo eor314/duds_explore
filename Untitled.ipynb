{
 "cells": [
  {
   "cell_type": "markdown",
   "id": "2db4fcbb",
   "metadata": {},
   "source": [
    "# Explore dataset splits\n",
    "Use the fathomnet-generate tool to pull down different versions of publicaly available data for distribution shift paper"
   ]
  },
  {
   "cell_type": "code",
   "execution_count": 1,
   "id": "f96f829a",
   "metadata": {},
   "outputs": [],
   "source": [
    "import os\n",
    "import sys\n",
    "import glob\n",
    "import datetime\n",
    "import requests\n",
    "import json\n",
    "import progressbar\n",
    "import subprocess\n",
    "import numpy as np\n",
    "import pandas as pd\n",
    "import matplotlib.pyplot as plt\n",
    "from dateutil.relativedelta import relativedelta\n",
    "from scipy.spatial.distance import braycurtis"
   ]
  },
  {
   "cell_type": "markdown",
   "id": "4a5af1db",
   "metadata": {},
   "source": [
    "## Prune down benthic concept list\n",
    "Cut out concepts that Lonny identified as being inapproriate for this context."
   ]
  },
  {
   "cell_type": "code",
   "execution_count": null,
   "id": "d38171e9",
   "metadata": {},
   "outputs": [],
   "source": [
    "# concepts to remove\n",
    "nix = ['Myctophidae', 'Bathylagidae', 'Heteropoda', 'Thecosomata','Gymnosomata']\n",
    "\n",
    "# load the concepts\n",
    "with open(os.path.join(os.getcwd(), 'benthic_concepts.txt'), 'r') as ff:\n",
    "    concepts = list(ff)\n",
    "    ff.close()\n",
    "    \n",
    "concepts = [line.strip() for line in concepts]\n",
    "\n",
    "# remove all child concepts starting at the tax0nomic levels identified by Lonny\n",
    "to_remove = []\n",
    "for nx in nix:\n",
    "    tx_req = requests.get(f'http://fathomnet.org:8080/taxa/query/mbari/{nx}')\n",
    "    tx_res = json.loads(tx_req.content)\n",
    "    \n",
    "    for item in tx_res:\n",
    "        to_remove.append(item['name'])\n",
    "\n",
    "concepts = [line for line in concepts if line not in to_remove]  # this takes out 111 worms and gastropods\n",
    "\n",
    "# remove all concepts that have zero annotations\n",
    "test = []\n",
    "for concept in concepts:\n",
    "    sp_req = requests.get(f'http://fathomnet.org:8080/images/query/concept/{concept}')\n",
    "    sp_resp = json.loads(sp_req.content)\n",
    "    \n",
    "    if len(sp_resp) == 0:\n",
    "        test.append(concept)\n",
    "        \n",
    "concepts = [line for line in concepts if line not in test]\n",
    "\n",
    "# save the new list\n",
    "with open(os.path.join(os.getcwd(), 'benthic_concepts_pared.txt', 'w') as ff:\n",
    "    for line in concepts:\n",
    "        ff.write(line+'\\n')\n",
    "    ff.close()"
   ]
  },
  {
   "cell_type": "markdown",
   "id": "50709da0",
   "metadata": {},
   "source": [
    "## Filter by date\n",
    "Look at the numbers annotations per year available from MBARI contributed images"
   ]
  },
  {
   "cell_type": "code",
   "execution_count": 3,
   "id": "f7558085",
   "metadata": {},
   "outputs": [],
   "source": [
    "with open(os.path.join(os.getcwd(), 'benthic_concepts_pared.txt'), 'r') as ff:\n",
    "    concepts = list(ff)\n",
    "    ff.close()\n",
    "    \n",
    "concepts = [line.strip() for line in concepts]\n",
    "\n",
    "st = datetime.datetime.fromisoformat('1988-01-01')\n",
    "et = datetime.datetime.fromisoformat('2019-12-31')\n",
    "\n",
    "mm = pd.date_range(st, et, freq='Y')\n",
    "df = pd.DataFrame(index=concepts, columns=mm.year)"
   ]
  },
  {
   "cell_type": "code",
   "execution_count": 7,
   "id": "98a7d804",
   "metadata": {},
   "outputs": [
    {
     "name": "stdout",
     "output_type": "stream",
     "text": [
      "/Users/eorenstein/PycharmProjects/fathomnet-py\n"
     ]
    },
    {
     "name": "stderr",
     "output_type": "stream",
     "text": [
      "Traceback (most recent call last):\n",
      "  File \"/opt/anaconda3/envs/fn_data_explore/bin/fathomnet-generate\", line 8, in <module>\n",
      "    sys.exit(main())\n",
      "  File \"/opt/anaconda3/envs/fn_data_explore/lib/python3.9/site-packages/fathomnet/scripts/fathomnet_generate.py\", line 402, in main\n",
      "    args = parse_args()  # Will exit the script on error\n",
      "  File \"/opt/anaconda3/envs/fn_data_explore/lib/python3.9/site-packages/fathomnet/scripts/fathomnet_generate.py\", line 287, in parse_args\n",
      "    if not concepts:\n",
      "UnboundLocalError: local variable 'concepts' referenced before assignment\n"
     ]
    },
    {
     "ename": "CalledProcessError",
     "evalue": "Command 'fathomnet-generate --count --concepts-file /Users/eorenstein/Desktop/benthic_concepts_pared.txt --start 1988-01-01 --end 1989-01-01' returned non-zero exit status 1.",
     "output_type": "error",
     "traceback": [
      "\u001b[0;31m---------------------------------------------------------------------------\u001b[0m",
      "\u001b[0;31mCalledProcessError\u001b[0m                        Traceback (most recent call last)",
      "\u001b[0;32m/var/folders/ss/90b0znr577g12my0md1bh7s4000bhs/T/ipykernel_68609/2453071511.py\u001b[0m in \u001b[0;36m<module>\u001b[0;34m\u001b[0m\n\u001b[1;32m      7\u001b[0m           \u001b[0;34mf'--start {st.strftime(\"%Y-%m-%d\")} --end {ee.strftime(\"%Y-%m-%d\")}'\u001b[0m\u001b[0;34m\u001b[0m\u001b[0;34m\u001b[0m\u001b[0m\n\u001b[1;32m      8\u001b[0m \u001b[0;34m\u001b[0m\u001b[0m\n\u001b[0;32m----> 9\u001b[0;31m     \u001b[0moutput\u001b[0m \u001b[0;34m=\u001b[0m \u001b[0msubprocess\u001b[0m\u001b[0;34m.\u001b[0m\u001b[0mcheck_output\u001b[0m\u001b[0;34m(\u001b[0m\u001b[0mcmd\u001b[0m\u001b[0;34m,\u001b[0m \u001b[0mshell\u001b[0m\u001b[0;34m=\u001b[0m\u001b[0;32mTrue\u001b[0m\u001b[0;34m)\u001b[0m\u001b[0;34m\u001b[0m\u001b[0;34m\u001b[0m\u001b[0m\n\u001b[0m\u001b[1;32m     10\u001b[0m \u001b[0;34m\u001b[0m\u001b[0m\n\u001b[1;32m     11\u001b[0m     \u001b[0moutput\u001b[0m \u001b[0;34m=\u001b[0m \u001b[0moutput\u001b[0m\u001b[0;34m.\u001b[0m\u001b[0mdecode\u001b[0m\u001b[0;34m(\u001b[0m\u001b[0;34m'utf-8'\u001b[0m\u001b[0;34m)\u001b[0m\u001b[0;34m\u001b[0m\u001b[0;34m\u001b[0m\u001b[0m\n",
      "\u001b[0;32m/opt/anaconda3/envs/fn_data_explore/lib/python3.9/subprocess.py\u001b[0m in \u001b[0;36mcheck_output\u001b[0;34m(timeout, *popenargs, **kwargs)\u001b[0m\n\u001b[1;32m    422\u001b[0m         \u001b[0mkwargs\u001b[0m\u001b[0;34m[\u001b[0m\u001b[0;34m'input'\u001b[0m\u001b[0;34m]\u001b[0m \u001b[0;34m=\u001b[0m \u001b[0mempty\u001b[0m\u001b[0;34m\u001b[0m\u001b[0;34m\u001b[0m\u001b[0m\n\u001b[1;32m    423\u001b[0m \u001b[0;34m\u001b[0m\u001b[0m\n\u001b[0;32m--> 424\u001b[0;31m     return run(*popenargs, stdout=PIPE, timeout=timeout, check=True,\n\u001b[0m\u001b[1;32m    425\u001b[0m                **kwargs).stdout\n\u001b[1;32m    426\u001b[0m \u001b[0;34m\u001b[0m\u001b[0m\n",
      "\u001b[0;32m/opt/anaconda3/envs/fn_data_explore/lib/python3.9/subprocess.py\u001b[0m in \u001b[0;36mrun\u001b[0;34m(input, capture_output, timeout, check, *popenargs, **kwargs)\u001b[0m\n\u001b[1;32m    526\u001b[0m         \u001b[0mretcode\u001b[0m \u001b[0;34m=\u001b[0m \u001b[0mprocess\u001b[0m\u001b[0;34m.\u001b[0m\u001b[0mpoll\u001b[0m\u001b[0;34m(\u001b[0m\u001b[0;34m)\u001b[0m\u001b[0;34m\u001b[0m\u001b[0;34m\u001b[0m\u001b[0m\n\u001b[1;32m    527\u001b[0m         \u001b[0;32mif\u001b[0m \u001b[0mcheck\u001b[0m \u001b[0;32mand\u001b[0m \u001b[0mretcode\u001b[0m\u001b[0;34m:\u001b[0m\u001b[0;34m\u001b[0m\u001b[0;34m\u001b[0m\u001b[0m\n\u001b[0;32m--> 528\u001b[0;31m             raise CalledProcessError(retcode, process.args,\n\u001b[0m\u001b[1;32m    529\u001b[0m                                      output=stdout, stderr=stderr)\n\u001b[1;32m    530\u001b[0m     \u001b[0;32mreturn\u001b[0m \u001b[0mCompletedProcess\u001b[0m\u001b[0;34m(\u001b[0m\u001b[0mprocess\u001b[0m\u001b[0;34m.\u001b[0m\u001b[0margs\u001b[0m\u001b[0;34m,\u001b[0m \u001b[0mretcode\u001b[0m\u001b[0;34m,\u001b[0m \u001b[0mstdout\u001b[0m\u001b[0;34m,\u001b[0m \u001b[0mstderr\u001b[0m\u001b[0;34m)\u001b[0m\u001b[0;34m\u001b[0m\u001b[0;34m\u001b[0m\u001b[0m\n",
      "\u001b[0;31mCalledProcessError\u001b[0m: Command 'fathomnet-generate --count --concepts-file /Users/eorenstein/Desktop/benthic_concepts_pared.txt --start 1988-01-01 --end 1989-01-01' returned non-zero exit status 1."
     ]
    }
   ],
   "source": [
    "os.chdir('/Users/eorenstein/PycharmProjects/fathomnet-py')\n",
    "print(os.getcwd())\n",
    "\n",
    "while st < et:\n",
    "    ee = st + relativedelta(years=1)\n",
    "    cmd = f'fathomnet-generate --count --concepts-file /Users/eorenstein/Desktop/benthic_concepts_pared.txt ' \\\n",
    "          f'--start {st.strftime(\"%Y-%m-%d\")} --end {ee.strftime(\"%Y-%m-%d\")}'\n",
    "\n",
    "    output = subprocess.check_output(cmd, shell=True)\n",
    "\n",
    "    output = output.decode('utf-8')\n",
    "    output = output.split('\\n')\n",
    "    \n",
    "    xx = [(line.split('|')[0].strip(), int(line.split('|')[1].strip())) for line in output[2:-1]]\n",
    "    \n",
    "    for item in xx:\n",
    "        df.at[item[0], st.year] = item[1]\n",
    "\n",
    "    print(f'done with {st.year}')\n",
    "    st += relativedelta(years=1)\n"
   ]
  },
  {
   "cell_type": "code",
   "execution_count": null,
   "id": "4d048b0f",
   "metadata": {},
   "outputs": [],
   "source": []
  }
 ],
 "metadata": {
  "kernelspec": {
   "display_name": "Python 3 (ipykernel)",
   "language": "python",
   "name": "python3"
  },
  "language_info": {
   "codemirror_mode": {
    "name": "ipython",
    "version": 3
   },
   "file_extension": ".py",
   "mimetype": "text/x-python",
   "name": "python",
   "nbconvert_exporter": "python",
   "pygments_lexer": "ipython3",
   "version": "3.9.6"
  }
 },
 "nbformat": 4,
 "nbformat_minor": 5
}
